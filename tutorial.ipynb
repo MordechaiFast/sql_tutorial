{
 "cells": [
  {
   "cell_type": "code",
   "execution_count": 1,
   "id": "be090362-957d-439a-9a94-ab170ce987c2",
   "metadata": {},
   "outputs": [],
   "source": [
    "# %pip install sqlalchemy\n",
    "%rm tutorial.db"
   ]
  },
  {
   "cell_type": "code",
   "execution_count": 2,
   "id": "b0811752-532d-46ad-881d-4cacc897a03a",
   "metadata": {},
   "outputs": [
    {
     "name": "stdout",
     "output_type": "stream",
     "text": [
      "2.0.25\n"
     ]
    }
   ],
   "source": [
    "import sqlalchemy\n",
    "\n",
    "print(sqlalchemy.__version__)"
   ]
  },
  {
   "cell_type": "code",
   "execution_count": 3,
   "id": "e31f0871-5d4c-4285-9418-68222b5a838a",
   "metadata": {},
   "outputs": [],
   "source": [
    "from sqlalchemy import create_engine\n",
    "\n",
    "engine = create_engine(\"sqlite+pysqlite:///tutorial.db\", echo=True)"
   ]
  },
  {
   "cell_type": "code",
   "execution_count": 4,
   "id": "9aad8947-606b-4354-af12-f21b52fdb171",
   "metadata": {},
   "outputs": [
    {
     "name": "stdout",
     "output_type": "stream",
     "text": [
      "2024-02-12 16:34:19,199 INFO sqlalchemy.engine.Engine BEGIN (implicit)\n",
      "2024-02-12 16:34:19,205 INFO sqlalchemy.engine.Engine CREATE TABLE some_table (x int, y int)\n",
      "2024-02-12 16:34:19,213 INFO sqlalchemy.engine.Engine [generated in 0.01360s] ()\n",
      "2024-02-12 16:34:19,257 INFO sqlalchemy.engine.Engine INSERT INTO some_table (x, y) VALUES (?, ?)\n",
      "2024-02-12 16:34:19,261 INFO sqlalchemy.engine.Engine [generated in 0.00414s] [(1, 1), (2, 4)]\n",
      "2024-02-12 16:34:19,273 INFO sqlalchemy.engine.Engine COMMIT\n",
      "2024-02-12 16:34:19,284 INFO sqlalchemy.engine.Engine BEGIN (implicit)\n",
      "2024-02-12 16:34:19,292 INFO sqlalchemy.engine.Engine INSERT INTO some_table (x, y) VALUES (?, ?)\n",
      "2024-02-12 16:34:19,295 INFO sqlalchemy.engine.Engine [cached since 0.03857s ago] [(6, 8), (9, 10)]\n",
      "2024-02-12 16:34:19,301 INFO sqlalchemy.engine.Engine COMMIT\n",
      "2024-02-12 16:34:20,035 INFO sqlalchemy.engine.Engine BEGIN (implicit)\n",
      "2024-02-12 16:34:20,038 INFO sqlalchemy.engine.Engine INSERT INTO some_table (x, y) VALUES (?, ?)\n",
      "2024-02-12 16:34:20,042 INFO sqlalchemy.engine.Engine [cached since 0.7856s ago] [(11, 12), (13, 14)]\n",
      "2024-02-12 16:34:20,052 INFO sqlalchemy.engine.Engine COMMIT\n"
     ]
    }
   ],
   "source": [
    "from sqlalchemy import text\n",
    "\n",
    "# \"commit as you go\"\n",
    "\n",
    "with engine.connect() as conn:\n",
    "    conn.execute(text(\"CREATE TABLE some_table (x int, y int)\"))\n",
    "    conn.execute(\n",
    "        text(\"INSERT INTO some_table (x, y) VALUES (:x, :y)\"),\n",
    "        [{\"x\": 1, \"y\": 1}, {\"x\": 2, \"y\": 4}],\n",
    "    )\n",
    "    conn.commit()\n",
    "\n",
    "# \"beging once\"\n",
    "\n",
    "with engine.begin() as conn:\n",
    "    conn.execute(\n",
    "        text(\"INSERT INTO some_table (x, y) VALUES (:x, :y)\"),\n",
    "        [{\"x\": 6, \"y\": 8}, {\"x\": 9, \"y\": 10}],\n",
    "    )\n",
    "\n",
    "# Session commiting, statement objects\n",
    "\n",
    "from sqlalchemy.orm import Session\n",
    "\n",
    "stmt = text(\"INSERT INTO some_table (x, y) VALUES (:x, :y)\")\n",
    "with Session(engine) as session:\n",
    "    session.execute(stmt, \n",
    "                    [{\"x\": 11, \"y\": 12}, {\"x\": 13, \"y\": 14}])\n",
    "    session.commit()"
   ]
  },
  {
   "cell_type": "code",
   "execution_count": 5,
   "id": "60002c3b-6be4-4865-bcf5-1dd81878e13d",
   "metadata": {},
   "outputs": [],
   "source": [
    "from sqlalchemy import MetaData\n",
    "\n",
    "metadata_obj = MetaData()"
   ]
  },
  {
   "cell_type": "code",
   "execution_count": 6,
   "id": "550b60d7-b728-4363-bf29-b2fb56244ada",
   "metadata": {},
   "outputs": [],
   "source": [
    "from sqlalchemy import Table, Column, Integer, String\n",
    "\n",
    "user_table = Table(\n",
    "    \"user_account\",\n",
    "    metadata_obj,\n",
    "    Column(\"id\", Integer, primary_key=True),\n",
    "    Column(\"name\", String(30)),\n",
    "    Column(\"fullname\", String),\n",
    ")"
   ]
  },
  {
   "cell_type": "code",
   "execution_count": 7,
   "id": "661d895e-7f1c-41a1-a934-d0fd240f2fbe",
   "metadata": {
    "editable": true,
    "slideshow": {
     "slide_type": ""
    },
    "tags": []
   },
   "outputs": [],
   "source": [
    "from sqlalchemy import ForeignKey\n",
    "\n",
    "address_table = Table(\n",
    "    \"address\",\n",
    "    metadata_obj,\n",
    "    Column(\"id\", Integer, primary_key=True),\n",
    "    Column(\"user_id\", ForeignKey(\"user_account.id\"), nullable=False),\n",
    "    Column(\"email_address\", String, nullable=False),\n",
    ")"
   ]
  },
  {
   "cell_type": "code",
   "execution_count": 8,
   "id": "5f723b4c-3b2a-4a9b-974c-cbf1a7ba228f",
   "metadata": {
    "scrolled": true
   },
   "outputs": [
    {
     "name": "stdout",
     "output_type": "stream",
     "text": [
      "2024-02-12 16:34:20,232 INFO sqlalchemy.engine.Engine BEGIN (implicit)\n",
      "2024-02-12 16:34:20,239 INFO sqlalchemy.engine.Engine PRAGMA main.table_info(\"user_account\")\n",
      "2024-02-12 16:34:20,244 INFO sqlalchemy.engine.Engine [raw sql] ()\n",
      "2024-02-12 16:34:20,249 INFO sqlalchemy.engine.Engine PRAGMA temp.table_info(\"user_account\")\n",
      "2024-02-12 16:34:20,277 INFO sqlalchemy.engine.Engine [raw sql] ()\n",
      "2024-02-12 16:34:20,290 INFO sqlalchemy.engine.Engine PRAGMA main.table_info(\"address\")\n",
      "2024-02-12 16:34:20,294 INFO sqlalchemy.engine.Engine [raw sql] ()\n",
      "2024-02-12 16:34:20,299 INFO sqlalchemy.engine.Engine PRAGMA temp.table_info(\"address\")\n",
      "2024-02-12 16:34:20,302 INFO sqlalchemy.engine.Engine [raw sql] ()\n",
      "2024-02-12 16:34:20,309 INFO sqlalchemy.engine.Engine \n",
      "CREATE TABLE user_account (\n",
      "\tid INTEGER NOT NULL, \n",
      "\tname VARCHAR(30), \n",
      "\tfullname VARCHAR, \n",
      "\tPRIMARY KEY (id)\n",
      ")\n",
      "\n",
      "\n",
      "2024-02-12 16:34:20,312 INFO sqlalchemy.engine.Engine [no key 0.00325s] ()\n",
      "2024-02-12 16:34:20,331 INFO sqlalchemy.engine.Engine \n",
      "CREATE TABLE address (\n",
      "\tid INTEGER NOT NULL, \n",
      "\tuser_id INTEGER NOT NULL, \n",
      "\temail_address VARCHAR NOT NULL, \n",
      "\tPRIMARY KEY (id), \n",
      "\tFOREIGN KEY(user_id) REFERENCES user_account (id)\n",
      ")\n",
      "\n",
      "\n",
      "2024-02-12 16:34:20,334 INFO sqlalchemy.engine.Engine [no key 0.00281s] ()\n",
      "2024-02-12 16:34:20,350 INFO sqlalchemy.engine.Engine COMMIT\n"
     ]
    }
   ],
   "source": [
    "metadata_obj.create_all(engine)"
   ]
  },
  {
   "cell_type": "code",
   "execution_count": 9,
   "id": "18889f57-cd01-4b05-b4bb-173599a69adb",
   "metadata": {},
   "outputs": [],
   "source": [
    "from sqlalchemy.orm import DeclarativeBase\n",
    "\n",
    "class Base(DeclarativeBase):\n",
    "    pass"
   ]
  },
  {
   "cell_type": "code",
   "execution_count": 10,
   "id": "35a58c02-970f-461e-8548-4a1c921f58bd",
   "metadata": {},
   "outputs": [],
   "source": [
    "from typing import List, Optional\n",
    "from sqlalchemy.orm import Mapped, mapped_column, relationship\n",
    "\n",
    "class User(Base):\n",
    "    __tablename__ = \"user_account\"\n",
    "\n",
    "    id: Mapped[int] = mapped_column(primary_key=True)\n",
    "    name: Mapped[str] = mapped_column(String(30))\n",
    "    fullname: Mapped[Optional[str]]\n",
    "\n",
    "    addresses: Mapped[List[\"Address\"]] = relationship(back_populates=\"user\")\n",
    "\n",
    "    def __repr__(self) -> str:\n",
    "        return f\"User(id={self.id!r}, name={self.name!r}, fullname={self.fullname!r})\""
   ]
  },
  {
   "cell_type": "code",
   "execution_count": 11,
   "id": "4d7e6f98-2279-481e-851f-c480a86ee234",
   "metadata": {},
   "outputs": [],
   "source": [
    "from sqlalchemy import ForeignKey\n",
    "\n",
    "class Address(Base):\n",
    "    __tablename__ = \"address\"\n",
    "\n",
    "    id: Mapped[int] = mapped_column(primary_key=True)\n",
    "    email_address: Mapped[str]\n",
    "    user_id = mapped_column(ForeignKey(\"user_account.id\"))\n",
    "\n",
    "    user: Mapped[User] = relationship(back_populates=\"addresses\")\n",
    "\n",
    "    def __repr__(self) -> str:\n",
    "        return f\"Address(id={self.id!r}, email_address={self.email_address!r})\""
   ]
  },
  {
   "cell_type": "code",
   "execution_count": 12,
   "id": "f4649fb2-7050-4d09-865e-c950fe40cb88",
   "metadata": {},
   "outputs": [
    {
     "name": "stdout",
     "output_type": "stream",
     "text": [
      "2024-02-12 16:34:20,564 INFO sqlalchemy.engine.Engine BEGIN (implicit)\n",
      "2024-02-12 16:34:20,579 INFO sqlalchemy.engine.Engine PRAGMA main.table_info(\"user_account\")\n",
      "2024-02-12 16:34:20,586 INFO sqlalchemy.engine.Engine [raw sql] ()\n",
      "2024-02-12 16:34:20,593 INFO sqlalchemy.engine.Engine PRAGMA main.table_info(\"address\")\n",
      "2024-02-12 16:34:20,597 INFO sqlalchemy.engine.Engine [raw sql] ()\n",
      "2024-02-12 16:34:20,605 INFO sqlalchemy.engine.Engine COMMIT\n"
     ]
    }
   ],
   "source": [
    "Base.metadata.create_all(engine)"
   ]
  },
  {
   "cell_type": "code",
   "execution_count": 13,
   "id": "75ef1a2c-079d-4a10-97cb-14b6a74a0291",
   "metadata": {},
   "outputs": [
    {
     "name": "stdout",
     "output_type": "stream",
     "text": [
      "2024-02-12 16:34:20,649 INFO sqlalchemy.engine.Engine BEGIN (implicit)\n",
      "2024-02-12 16:34:20,653 INFO sqlalchemy.engine.Engine PRAGMA main.table_xinfo(\"some_table\")\n",
      "2024-02-12 16:34:20,657 INFO sqlalchemy.engine.Engine [raw sql] ()\n",
      "2024-02-12 16:34:20,670 INFO sqlalchemy.engine.Engine SELECT sql FROM  (SELECT * FROM sqlite_master UNION ALL   SELECT * FROM sqlite_temp_master) WHERE name = ? AND type in ('table', 'view')\n",
      "2024-02-12 16:34:20,673 INFO sqlalchemy.engine.Engine [raw sql] ('some_table',)\n",
      "2024-02-12 16:34:20,685 INFO sqlalchemy.engine.Engine PRAGMA main.foreign_key_list(\"some_table\")\n",
      "2024-02-12 16:34:20,688 INFO sqlalchemy.engine.Engine [raw sql] ()\n",
      "2024-02-12 16:34:20,696 INFO sqlalchemy.engine.Engine PRAGMA temp.foreign_key_list(\"some_table\")\n",
      "2024-02-12 16:34:20,699 INFO sqlalchemy.engine.Engine [raw sql] ()\n",
      "2024-02-12 16:34:20,704 INFO sqlalchemy.engine.Engine SELECT sql FROM  (SELECT * FROM sqlite_master UNION ALL   SELECT * FROM sqlite_temp_master) WHERE name = ? AND type in ('table', 'view')\n",
      "2024-02-12 16:34:20,707 INFO sqlalchemy.engine.Engine [raw sql] ('some_table',)\n",
      "2024-02-12 16:34:20,731 INFO sqlalchemy.engine.Engine PRAGMA main.index_list(\"some_table\")\n",
      "2024-02-12 16:34:20,734 INFO sqlalchemy.engine.Engine [raw sql] ()\n",
      "2024-02-12 16:34:20,748 INFO sqlalchemy.engine.Engine PRAGMA temp.index_list(\"some_table\")\n",
      "2024-02-12 16:34:20,764 INFO sqlalchemy.engine.Engine [raw sql] ()\n",
      "2024-02-12 16:34:20,772 INFO sqlalchemy.engine.Engine PRAGMA main.table_info(\"some_table\")\n",
      "2024-02-12 16:34:20,778 INFO sqlalchemy.engine.Engine [raw sql] ()\n",
      "2024-02-12 16:34:20,792 INFO sqlalchemy.engine.Engine PRAGMA main.index_list(\"some_table\")\n",
      "2024-02-12 16:34:20,796 INFO sqlalchemy.engine.Engine [raw sql] ()\n",
      "2024-02-12 16:34:20,814 INFO sqlalchemy.engine.Engine PRAGMA temp.index_list(\"some_table\")\n",
      "2024-02-12 16:34:20,819 INFO sqlalchemy.engine.Engine [raw sql] ()\n",
      "2024-02-12 16:34:20,839 INFO sqlalchemy.engine.Engine PRAGMA main.table_info(\"some_table\")\n",
      "2024-02-12 16:34:20,854 INFO sqlalchemy.engine.Engine [raw sql] ()\n",
      "2024-02-12 16:34:20,861 INFO sqlalchemy.engine.Engine SELECT sql FROM  (SELECT * FROM sqlite_master UNION ALL   SELECT * FROM sqlite_temp_master) WHERE name = ? AND type in ('table', 'view')\n",
      "2024-02-12 16:34:20,866 INFO sqlalchemy.engine.Engine [raw sql] ('some_table',)\n",
      "2024-02-12 16:34:20,891 INFO sqlalchemy.engine.Engine ROLLBACK\n"
     ]
    },
    {
     "data": {
      "text/plain": [
       "Table('some_table', MetaData(), Column('x', INTEGER(), table=<some_table>), Column('y', INTEGER(), table=<some_table>), schema=None)"
      ]
     },
     "execution_count": 13,
     "metadata": {},
     "output_type": "execute_result"
    }
   ],
   "source": [
    "Table(\"some_table\", metadata_obj, autoload_with=engine)"
   ]
  },
  {
   "cell_type": "code",
   "execution_count": 14,
   "id": "43ce1a4b-312c-4406-ae39-13443e5b322d",
   "metadata": {},
   "outputs": [
    {
     "name": "stdout",
     "output_type": "stream",
     "text": [
      "INSERT INTO user_account (id, name, fullname) VALUES (:id, :name, :fullname)\n"
     ]
    }
   ],
   "source": [
    "from sqlalchemy import insert\n",
    "\n",
    "# Automatic insert statement\n",
    "print(insert(user_table))"
   ]
  },
  {
   "cell_type": "code",
   "execution_count": 15,
   "id": "5f0360ff-9fb7-4377-a9ff-838401d785ff",
   "metadata": {},
   "outputs": [
    {
     "data": {
      "text/plain": [
       "{'name': 'mordy', 'fullname': 'Mordechai Fast'}"
      ]
     },
     "execution_count": 15,
     "metadata": {},
     "output_type": "execute_result"
    }
   ],
   "source": [
    "# Insert statement for specific fields with values method\n",
    "stmt = insert(user_table).values(name='mordy', fullname='Mordechai Fast')\n",
    "\n",
    "compiled = stmt.compile()\n",
    "compiled.params"
   ]
  },
  {
   "cell_type": "code",
   "execution_count": 16,
   "id": "33001f11-5415-452c-8bc0-94b9b69f2490",
   "metadata": {},
   "outputs": [
    {
     "name": "stdout",
     "output_type": "stream",
     "text": [
      "2024-02-12 16:34:21,104 INFO sqlalchemy.engine.Engine BEGIN (implicit)\n",
      "2024-02-12 16:34:21,187 INFO sqlalchemy.engine.Engine INSERT INTO user_account (name, fullname) VALUES (?, ?)\n",
      "2024-02-12 16:34:21,192 INFO sqlalchemy.engine.Engine [generated in 0.01237s] ('mordy', 'Mordechai Fast')\n",
      "2024-02-12 16:34:21,201 INFO sqlalchemy.engine.Engine COMMIT\n"
     ]
    }
   ],
   "source": [
    "with engine.begin() as conn:\n",
    "    result = conn.execute(stmt)\n",
    "    # Notice shorter SQL text, with '?' and no 'id'"
   ]
  },
  {
   "cell_type": "code",
   "execution_count": 17,
   "id": "643a2624-c369-4ddd-8957-4f7d3af09e70",
   "metadata": {
    "scrolled": true
   },
   "outputs": [
    {
     "data": {
      "text/plain": [
       "(1,)"
      ]
     },
     "execution_count": 17,
     "metadata": {},
     "output_type": "execute_result"
    }
   ],
   "source": [
    "# Primamry key is created automatically\n",
    "result.inserted_primary_key"
   ]
  },
  {
   "cell_type": "code",
   "execution_count": 18,
   "id": "97f18b74-f9d3-48fd-90bd-c355ace54ce5",
   "metadata": {},
   "outputs": [
    {
     "name": "stdout",
     "output_type": "stream",
     "text": [
      "2024-02-12 16:34:21,280 INFO sqlalchemy.engine.Engine BEGIN (implicit)\n",
      "2024-02-12 16:34:21,290 INFO sqlalchemy.engine.Engine INSERT INTO user_account (name, fullname) VALUES (?, ?)\n",
      "2024-02-12 16:34:21,308 INFO sqlalchemy.engine.Engine [generated in 0.01837s] [('golda', 'Golda Fast'), ('etty', 'Esther Fast')]\n",
      "2024-02-12 16:34:21,317 INFO sqlalchemy.engine.Engine COMMIT\n"
     ]
    }
   ],
   "source": [
    "# Insertions can be specified in the execute statement\n",
    "with engine.begin() as conn:\n",
    "    result = conn.execute(insert(user_table),\n",
    "                          [{\"name\": \"golda\", \"fullname\": \"Golda Fast\"},\n",
    "                           {\"name\": \"etty\", \"fullname\": \"Esther Fast\"}])"
   ]
  },
  {
   "cell_type": "code",
   "execution_count": 19,
   "id": "4ad632df-e4c1-4913-be31-dc869f2c518b",
   "metadata": {},
   "outputs": [
    {
     "name": "stdout",
     "output_type": "stream",
     "text": [
      "2024-02-12 16:34:21,367 INFO sqlalchemy.engine.Engine BEGIN (implicit)\n",
      "2024-02-12 16:34:21,396 INFO sqlalchemy.engine.Engine INSERT INTO address (user_id, email_address) VALUES ((SELECT user_account.id \n",
      "FROM user_account \n",
      "WHERE user_account.name = ?), ?)\n",
      "2024-02-12 16:34:21,398 INFO sqlalchemy.engine.Engine [generated in 0.00432s] [('mordy', 'mordechai.fast@gmail.com'), ('golda', 'golda.fast@gmail.com'), ('golda', 'melechmommy@gmail.com')]\n",
      "2024-02-12 16:34:21,408 INFO sqlalchemy.engine.Engine COMMIT\n"
     ]
    }
   ],
   "source": [
    "# Unneccessarally complicated, core-only method\n",
    "from sqlalchemy import select, bindparam\n",
    "\n",
    "scalar_subq = (\n",
    "    select(user_table.c.id)\n",
    "    .where(user_table.c.name == bindparam(\"username\"))\n",
    "    .scalar_subquery()\n",
    ")\n",
    "\n",
    "with engine.begin() as conn:\n",
    "    result = conn.execute(\n",
    "        insert(address_table).values(user_id=scalar_subq),\n",
    "        [\n",
    "            {\"username\": \"mordy\", \"email_address\": \"mordechai.fast@gmail.com\"},\n",
    "            {\"username\": \"golda\", \"email_address\": \"golda.fast@gmail.com\"},\n",
    "            {\"username\": \"golda\", \"email_address\": \"melechmommy@gmail.com\"},\n",
    "        ],\n",
    "    )"
   ]
  },
  {
   "cell_type": "code",
   "execution_count": 20,
   "id": "46907c72-3312-4f0d-a083-e2bfa4cadb1b",
   "metadata": {},
   "outputs": [
    {
     "name": "stdout",
     "output_type": "stream",
     "text": [
      "2024-02-12 16:34:21,453 INFO sqlalchemy.engine.Engine BEGIN (implicit)\n",
      "2024-02-12 16:34:21,458 INFO sqlalchemy.engine.Engine INSERT INTO address (user_id, email_address) VALUES (?, ?) RETURNING id, email_address\n",
      "2024-02-12 16:34:21,463 INFO sqlalchemy.engine.Engine [generated in 0.01007s] (1, 'none@no.where')\n",
      "2024-02-12 16:34:21,472 INFO sqlalchemy.engine.Engine ROLLBACK\n",
      "The result is: (4, 'none@no.where')\n"
     ]
    }
   ],
   "source": [
    "insert_return_stmt = insert(address_table).returning(\n",
    "    address_table.c.id, address_table.c.email_address\n",
    ")\n",
    "\n",
    "with engine.connect() as conn:\n",
    "    result = conn.execute(insert_return_stmt,\n",
    "        [{\"user_id\": 1, \"email_address\": \"none@no.where\"}])\n",
    "    # Don't save that!\n",
    "print(f\"The result is: {result.first()}\")"
   ]
  },
  {
   "cell_type": "code",
   "execution_count": 21,
   "id": "38eeb5e9-007e-45e2-b8de-90e94b0cd71d",
   "metadata": {},
   "outputs": [
    {
     "name": "stdout",
     "output_type": "stream",
     "text": [
      "2024-02-12 16:34:21,540 INFO sqlalchemy.engine.Engine BEGIN (implicit)\n",
      "2024-02-12 16:34:21,553 INFO sqlalchemy.engine.Engine INSERT INTO address (user_id, email_address) SELECT user_account.id, user_account.name || ? AS anon_1 \n",
      "FROM user_account RETURNING id, email_address\n",
      "2024-02-12 16:34:21,559 INFO sqlalchemy.engine.Engine [generated in 0.02009s] ('@aol.com',)\n",
      "(4, 'mordy@aol.com')\n",
      "(5, 'golda@aol.com')\n",
      "(6, 'etty@aol.com')\n",
      "2024-02-12 16:34:21,572 INFO sqlalchemy.engine.Engine COMMIT\n"
     ]
    }
   ],
   "source": [
    "select_stmt = select(user_table.c.id, user_table.c.name + \"@aol.com\")\n",
    "insert_from_stmt = insert(address_table).from_select(\n",
    "    [\"user_id\", \"email_address\"], select_stmt\n",
    ")\n",
    "\n",
    "with engine.connect() as conn:\n",
    "    result = conn.execute(insert_from_stmt.returning(\n",
    "        address_table.c.id, address_table.c.email_address))\n",
    "    print(*result, sep=\"\\n\")\n",
    "    conn.commit()"
   ]
  },
  {
   "cell_type": "code",
   "execution_count": 22,
   "id": "59bc0e58-fd0e-47fc-9667-15a41107f73d",
   "metadata": {},
   "outputs": [
    {
     "name": "stdout",
     "output_type": "stream",
     "text": [
      "2024-02-12 16:34:21,637 INFO sqlalchemy.engine.Engine BEGIN (implicit)\n",
      "2024-02-12 16:34:21,642 INFO sqlalchemy.engine.Engine SELECT user_account.id, user_account.name, user_account.fullname \n",
      "FROM user_account \n",
      "WHERE user_account.name = ?\n",
      "2024-02-12 16:34:21,646 INFO sqlalchemy.engine.Engine [generated in 0.00882s] ('mordy',)\n",
      "2024-02-12 16:34:21,650 INFO sqlalchemy.engine.Engine ROLLBACK\n",
      "(1, 'mordy', 'Mordechai Fast')\n"
     ]
    }
   ],
   "source": [
    "from sqlalchemy import select\n",
    "\n",
    "where_stmt = select(user_table).where(user_table.c.name == \"mordy\")\n",
    "\n",
    "with engine.connect() as conn:\n",
    "    result = conn.execute(where_stmt)\n",
    "print(*result)"
   ]
  },
  {
   "cell_type": "code",
   "execution_count": 23,
   "id": "920bd637-3a52-4a24-bc55-2f1009e3a43f",
   "metadata": {
    "editable": true,
    "slideshow": {
     "slide_type": ""
    },
    "tags": []
   },
   "outputs": [
    {
     "name": "stdout",
     "output_type": "stream",
     "text": [
      "2024-02-12 16:34:21,699 INFO sqlalchemy.engine.Engine BEGIN (implicit)\n",
      "2024-02-12 16:34:21,750 INFO sqlalchemy.engine.Engine SELECT user_account.id, user_account.name, user_account.fullname \n",
      "FROM user_account \n",
      "WHERE user_account.name = ?\n",
      "2024-02-12 16:34:21,753 INFO sqlalchemy.engine.Engine [generated in 0.00351s] ('mordy',)\n",
      "(User(id=1, name='mordy', fullname='Mordechai Fast'),)\n",
      "2024-02-12 16:34:21,761 INFO sqlalchemy.engine.Engine ROLLBACK\n"
     ]
    }
   ],
   "source": [
    "orm_where_stmt = select(User).where(User.name == \"mordy\")\n",
    "\n",
    "with Session(engine) as session:\n",
    "    result = session.execute(orm_where_stmt)\n",
    "    # Must be used before sesssion expires\n",
    "    print(*result)"
   ]
  },
  {
   "cell_type": "code",
   "execution_count": 24,
   "id": "af26592a-a5ef-4372-b4fe-fc29a1d6aebc",
   "metadata": {},
   "outputs": [
    {
     "name": "stdout",
     "output_type": "stream",
     "text": [
      "SELECT user_account.name, user_account.fullname \n",
      "FROM user_account\n",
      "SELECT user_account.name, user_account.fullname \n",
      "FROM user_account\n"
     ]
    }
   ],
   "source": [
    "# Two ways to refer to the column names\n",
    "partial_select1 = select(user_table.c.name, user_table.c.fullname)\n",
    "partial_select2 = select(user_table.c[\"name\", \"fullname\"])\n",
    "print(partial_select1, partial_select2, sep='\\n')"
   ]
  },
  {
   "cell_type": "code",
   "execution_count": 25,
   "id": "830d90e1-e243-4f45-ba0f-0881588ec627",
   "metadata": {},
   "outputs": [
    {
     "name": "stdout",
     "output_type": "stream",
     "text": [
      "2024-02-12 16:34:21,937 INFO sqlalchemy.engine.Engine BEGIN (implicit)\n",
      "2024-02-12 16:34:21,948 INFO sqlalchemy.engine.Engine SELECT user_account.id, user_account.name, user_account.fullname \n",
      "FROM user_account\n",
      "2024-02-12 16:34:21,958 INFO sqlalchemy.engine.Engine [generated in 0.00959s] ()\n"
     ]
    },
    {
     "data": {
      "text/plain": [
       "[(User(id=1, name='mordy', fullname='Mordechai Fast'),),\n",
       " (User(id=2, name='golda', fullname='Golda Fast'),),\n",
       " (User(id=3, name='etty', fullname='Esther Fast'),)]"
      ]
     },
     "execution_count": 25,
     "metadata": {},
     "output_type": "execute_result"
    }
   ],
   "source": [
    "session.execute(select(User)).all()\n",
    "# Notice the User objects are returned in single-tuples"
   ]
  },
  {
   "cell_type": "code",
   "execution_count": 26,
   "id": "0e450142-5616-459a-b979-095405d47551",
   "metadata": {},
   "outputs": [
    {
     "name": "stdout",
     "output_type": "stream",
     "text": [
      "2024-02-12 16:34:22,013 INFO sqlalchemy.engine.Engine SELECT user_account.id, user_account.name, user_account.fullname \n",
      "FROM user_account\n",
      "2024-02-12 16:34:22,017 INFO sqlalchemy.engine.Engine [cached since 0.06883s ago] ()\n"
     ]
    },
    {
     "data": {
      "text/plain": [
       "[User(id=1, name='mordy', fullname='Mordechai Fast'),\n",
       " User(id=2, name='golda', fullname='Golda Fast'),\n",
       " User(id=3, name='etty', fullname='Esther Fast')]"
      ]
     },
     "execution_count": 26,
     "metadata": {},
     "output_type": "execute_result"
    }
   ],
   "source": [
    "session.scalars(select(User)).all()"
   ]
  },
  {
   "cell_type": "code",
   "execution_count": 27,
   "id": "5994d69e-dfe0-4eca-be18-ede210edaa55",
   "metadata": {},
   "outputs": [
    {
     "name": "stdout",
     "output_type": "stream",
     "text": [
      "2024-02-12 16:34:22,058 INFO sqlalchemy.engine.Engine SELECT user_account.id, user_account.name, user_account.fullname \n",
      "FROM user_account\n",
      "2024-02-12 16:34:22,063 INFO sqlalchemy.engine.Engine [cached since 0.115s ago] ()\n"
     ]
    },
    {
     "data": {
      "text/plain": [
       "User(id=1, name='mordy', fullname='Mordechai Fast')"
      ]
     },
     "execution_count": 27,
     "metadata": {},
     "output_type": "execute_result"
    }
   ],
   "source": [
    "session.scalar(select(User))\n",
    "# Returns the first row as an object"
   ]
  },
  {
   "cell_type": "code",
   "execution_count": 28,
   "id": "c8e44c28-83eb-47a4-9503-602959127236",
   "metadata": {},
   "outputs": [
    {
     "name": "stdout",
     "output_type": "stream",
     "text": [
      "2024-02-12 16:34:22,181 INFO sqlalchemy.engine.Engine SELECT user_account.id, user_account.name, user_account.fullname \n",
      "FROM user_account \n",
      "WHERE user_account.id = ?\n",
      "2024-02-12 16:34:22,191 INFO sqlalchemy.engine.Engine [generated in 0.01113s] (2,)\n"
     ]
    },
    {
     "data": {
      "text/plain": [
       "User(id=2, name='golda', fullname='Golda Fast')"
      ]
     },
     "execution_count": 28,
     "metadata": {},
     "output_type": "execute_result"
    }
   ],
   "source": [
    "# Usefull when searching for a primary key\n",
    "session.scalar(select(User).where(User.id == 2))"
   ]
  },
  {
   "cell_type": "code",
   "execution_count": 29,
   "id": "e17313da-e033-49c0-8cb3-7e38f32e7b92",
   "metadata": {},
   "outputs": [
    {
     "name": "stdout",
     "output_type": "stream",
     "text": [
      "2024-02-12 16:34:22,238 INFO sqlalchemy.engine.Engine SELECT user_account.name, user_account.fullname \n",
      "FROM user_account\n",
      "2024-02-12 16:34:22,242 INFO sqlalchemy.engine.Engine [generated in 0.00444s] ()\n"
     ]
    },
    {
     "data": {
      "text/plain": [
       "[('mordy', 'Mordechai Fast'), ('golda', 'Golda Fast'), ('etty', 'Esther Fast')]"
      ]
     },
     "execution_count": 29,
     "metadata": {},
     "output_type": "execute_result"
    }
   ],
   "source": [
    "# Selecting specific columns\n",
    "session.execute(select(User.name, User.fullname)).all()"
   ]
  },
  {
   "cell_type": "code",
   "execution_count": 30,
   "id": "719ee572-ca9e-440e-8290-46b26e817409",
   "metadata": {},
   "outputs": [
    {
     "name": "stdout",
     "output_type": "stream",
     "text": [
      "2024-02-12 16:34:22,314 INFO sqlalchemy.engine.Engine SELECT user_account.name, address.id, address.email_address, address.user_id \n",
      "FROM user_account, address \n",
      "WHERE user_account.id = address.user_id\n",
      "2024-02-12 16:34:22,319 INFO sqlalchemy.engine.Engine [generated in 0.00500s] ()\n"
     ]
    },
    {
     "data": {
      "text/plain": [
       "[('mordy', Address(id=1, email_address='mordechai.fast@gmail.com')),\n",
       " ('golda', Address(id=2, email_address='golda.fast@gmail.com')),\n",
       " ('golda', Address(id=3, email_address='melechmommy@gmail.com')),\n",
       " ('mordy', Address(id=4, email_address='mordy@aol.com')),\n",
       " ('golda', Address(id=5, email_address='golda@aol.com')),\n",
       " ('etty', Address(id=6, email_address='etty@aol.com'))]"
      ]
     },
     "execution_count": 30,
     "metadata": {},
     "output_type": "execute_result"
    }
   ],
   "source": [
    "session.execute(\n",
    "    select(User.name, Address).where(User.id == Address.user_id)\n",
    ").all()"
   ]
  },
  {
   "cell_type": "code",
   "execution_count": 31,
   "id": "5a78042c-276f-4f29-9363-e0f3607d1725",
   "metadata": {},
   "outputs": [
    {
     "name": "stdout",
     "output_type": "stream",
     "text": [
      "2024-02-12 16:34:22,386 INFO sqlalchemy.engine.Engine BEGIN (implicit)\n",
      "2024-02-12 16:34:22,391 INFO sqlalchemy.engine.Engine SELECT ? || user_account.name AS username \n",
      "FROM user_account ORDER BY user_account.name\n",
      "2024-02-12 16:34:22,397 INFO sqlalchemy.engine.Engine [generated in 0.01182s] ('Username: ',)\n",
      "Username: etty\n",
      "Username: golda\n",
      "Username: mordy\n",
      "2024-02-12 16:34:22,407 INFO sqlalchemy.engine.Engine ROLLBACK\n"
     ]
    }
   ],
   "source": [
    "label_selection = select(\n",
    "    (\"Username: \" + user_table.c.name).label(\"username\")\n",
    ").order_by(user_table.c.name)\n",
    "\n",
    "with engine.connect() as conn:\n",
    "    for row in conn.execute(label_selection):\n",
    "        print(row.username)"
   ]
  },
  {
   "cell_type": "code",
   "execution_count": 32,
   "id": "800b82d3-7030-4f75-a729-00819e788db9",
   "metadata": {},
   "outputs": [
    {
     "name": "stdout",
     "output_type": "stream",
     "text": [
      "2024-02-12 16:34:22,437 INFO sqlalchemy.engine.Engine SELECT 'SQL', user_account.fullname \n",
      "FROM user_account\n",
      "2024-02-12 16:34:22,449 INFO sqlalchemy.engine.Engine [generated in 0.01242s] ()\n"
     ]
    },
    {
     "data": {
      "text/plain": [
       "[('SQL', 'Mordechai Fast'), ('SQL', 'Golda Fast'), ('SQL', 'Esther Fast')]"
      ]
     },
     "execution_count": 32,
     "metadata": {},
     "output_type": "execute_result"
    }
   ],
   "source": [
    "session.execute(select(text(\"'SQL'\"), user_table.c.fullname)).all()"
   ]
  },
  {
   "cell_type": "code",
   "execution_count": 33,
   "id": "9e54fc80-2515-4fe1-8862-dcb396a0e239",
   "metadata": {},
   "outputs": [
    {
     "name": "stdout",
     "output_type": "stream",
     "text": [
      "2024-02-12 16:34:22,510 INFO sqlalchemy.engine.Engine BEGIN (implicit)\n",
      "2024-02-12 16:34:22,515 INFO sqlalchemy.engine.Engine SELECT 'Name' AS \"desc\", user_account.fullname \n",
      "FROM user_account\n",
      "2024-02-12 16:34:22,521 INFO sqlalchemy.engine.Engine [generated in 0.01095s] ()\n",
      "Name: Mordechai Fast\n",
      "Name: Golda Fast\n",
      "Name: Esther Fast\n",
      "2024-02-12 16:34:22,529 INFO sqlalchemy.engine.Engine ROLLBACK\n"
     ]
    }
   ],
   "source": [
    "from sqlalchemy import literal_column\n",
    "\n",
    "lit_col_stmt = select(\n",
    "    literal_column(\"'Name'\").label(\"desc\"), user_table.c.fullname\n",
    ")\n",
    "with engine.connect() as conn:\n",
    "    for row in conn.execute(lit_col_stmt):\n",
    "        print(f\"{row.desc}: {row.fullname}\")"
   ]
  },
  {
   "cell_type": "code",
   "execution_count": 34,
   "id": "2542c8fb-5931-4b73-a3a8-3f506606fe63",
   "metadata": {},
   "outputs": [
    {
     "name": "stdout",
     "output_type": "stream",
     "text": [
      "SELECT address.id, address.user_id, address.email_address \n",
      "FROM address, user_account \n",
      "WHERE user_account.name = :name_1 AND address.user_id = user_account.id\n",
      "SELECT address.id, address.user_id, address.email_address \n",
      "FROM address, user_account \n",
      "WHERE user_account.name = :name_1 AND address.user_id = user_account.id\n"
     ]
    }
   ],
   "source": [
    "multi_where1 = (\n",
    "    select(address_table)\n",
    "    .where(user_table.c.name == 'golda')\n",
    "    .where(address_table.c.user_id == user_table.c.id)\n",
    ")\n",
    "\n",
    "multi_where2 = select(address_table).where(\n",
    "    user_table.c.name == 'golda',\n",
    "    address_table.c.user_id == user_table.c.id,\n",
    ")\n",
    "\n",
    "print(multi_where1, multi_where2, sep='\\n')"
   ]
  },
  {
   "cell_type": "code",
   "execution_count": 35,
   "id": "a98cdba8-f3ef-40d2-8810-44f70cbdd5e5",
   "metadata": {},
   "outputs": [
    {
     "name": "stdout",
     "output_type": "stream",
     "text": [
      "SELECT address.email_address \n",
      "FROM address, user_account \n",
      "WHERE user_account.name = :name_1 AND user_account.id = address.user_id OR address.user_id != :user_id_1\n",
      "SELECT address.email_address \n",
      "FROM address, user_account \n",
      "WHERE user_account.name = :name_1 AND user_account.id = address.user_id OR address.user_id != :user_id_1\n"
     ]
    }
   ],
   "source": [
    "from sqlalchemy import and_, or_, not_\n",
    "\n",
    "compound_stmt1 = select(Address.email_address).where(or_(\n",
    "    and_(User.name == 'golda', User.id == Address.user_id),\n",
    "    not_(Address.user_id == 0)\n",
    "))\n",
    "\n",
    "compound_stmt2 = select(Address.email_address).where(\n",
    "    (User.name == 'golda') & (User.id == Address.user_id)\n",
    "    | ~(Address.user_id == 0)\n",
    ")\n",
    "\n",
    "print(compound_stmt1, compound_stmt2, sep='\\n')"
   ]
  },
  {
   "cell_type": "code",
   "execution_count": 36,
   "id": "cb4b35fe-1475-484e-b213-f6c500a807c5",
   "metadata": {},
   "outputs": [
    {
     "name": "stdout",
     "output_type": "stream",
     "text": [
      "SELECT user_account.name, address.email_address \n",
      "FROM user_account JOIN address ON user_account.id = address.user_id\n",
      "SELECT user_account.name, address.email_address \n",
      "FROM user_account JOIN address ON user_account.id = address.user_id\n"
     ]
    }
   ],
   "source": [
    "join_stmt1 = (\n",
    "    select(user_table.c.name, address_table.c.email_address)\n",
    "    .join_from(user_table, address_table)\n",
    ")\n",
    "\n",
    "join_stmt2 = (\n",
    "    select(user_table.c.name, address_table.c.email_address)\n",
    "    .join(address_table)\n",
    ")\n",
    "\n",
    "print(join_stmt1, join_stmt2, sep='\\n')\n",
    "# ON condition is inferred"
   ]
  },
  {
   "cell_type": "code",
   "execution_count": 37,
   "id": "55427e3c-4c72-45bb-9d51-e66f6b1a5c33",
   "metadata": {},
   "outputs": [
    {
     "name": "stdout",
     "output_type": "stream",
     "text": [
      "2024-02-12 16:34:22,765 INFO sqlalchemy.engine.Engine BEGIN (implicit)\n",
      "2024-02-12 16:34:22,769 INFO sqlalchemy.engine.Engine SELECT count(?) AS count_1 \n",
      "FROM user_account JOIN address ON user_account.id = address.user_id\n",
      "2024-02-12 16:34:22,776 INFO sqlalchemy.engine.Engine [generated in 0.01363s] ('*',)\n",
      "2024-02-12 16:34:22,782 INFO sqlalchemy.engine.Engine ROLLBACK\n",
      "(6,)\n"
     ]
    }
   ],
   "source": [
    "from sqlalchemy import func\n",
    "\n",
    "count_overlap = (select(func.count('*'))\n",
    "                 .select_from(user_table).join(address_table))\n",
    "\n",
    "with engine.connect() as conn:\n",
    "    count = conn.execute(count_overlap)\n",
    "print(*count)"
   ]
  },
  {
   "cell_type": "code",
   "execution_count": 38,
   "id": "60982c05-612a-4144-a86c-7888d74d8de6",
   "metadata": {},
   "outputs": [
    {
     "name": "stdout",
     "output_type": "stream",
     "text": [
      "SELECT user_account.id, user_account.name, user_account.fullname \n",
      "FROM user_account LEFT OUTER JOIN address ON user_account.id = address.user_id\n",
      "SELECT user_account.id, user_account.name, user_account.fullname \n",
      "FROM user_account LEFT OUTER JOIN address ON user_account.id = address.user_id\n",
      "SELECT user_account.id, user_account.name, user_account.fullname \n",
      "FROM user_account FULL OUTER JOIN address ON user_account.id = address.user_id\n"
     ]
    }
   ],
   "source": [
    "# SQL - LEFT OUTER JOIN, FULL OUTER JOIN\n",
    "print(select(user_table).join(address_table, isouter=True))\n",
    "print(select(user_table).outerjoin(address_table))\n",
    "print(select(user_table).join(address_table, full=True))"
   ]
  },
  {
   "cell_type": "code",
   "execution_count": 39,
   "id": "773d9b24-a7a5-4344-be37-b862bd79d332",
   "metadata": {},
   "outputs": [
    {
     "name": "stdout",
     "output_type": "stream",
     "text": [
      "2024-02-12 16:34:22,877 INFO sqlalchemy.engine.Engine BEGIN (implicit)\n",
      "2024-02-12 16:34:22,881 INFO sqlalchemy.engine.Engine SELECT user_account.id, user_account.name, user_account.fullname \n",
      "FROM user_account ORDER BY user_account.name\n",
      "2024-02-12 16:34:22,885 INFO sqlalchemy.engine.Engine [generated in 0.00865s] ()\n",
      "2024-02-12 16:34:22,890 INFO sqlalchemy.engine.Engine ROLLBACK\n",
      "(3, 'etty', 'Esther Fast')\n",
      "(2, 'golda', 'Golda Fast')\n",
      "(1, 'mordy', 'Mordechai Fast')\n"
     ]
    }
   ],
   "source": [
    "with engine.connect() as conn:\n",
    "    result = conn.execute(select(user_table).order_by(user_table.c.name))\n",
    "    # equivilent to .order_by(user_table.c.name.asc())\n",
    "print(*result, sep='\\n')"
   ]
  },
  {
   "cell_type": "code",
   "execution_count": 40,
   "id": "e9fa37cd-3013-4fda-a2bd-3f1f76c49700",
   "metadata": {},
   "outputs": [
    {
     "name": "stdout",
     "output_type": "stream",
     "text": [
      "2024-02-12 16:34:22,943 INFO sqlalchemy.engine.Engine BEGIN (implicit)\n",
      "2024-02-12 16:34:22,946 INFO sqlalchemy.engine.Engine SELECT address.id, address.user_id, address.email_address \n",
      "FROM address ORDER BY address.id DESC\n",
      "2024-02-12 16:34:22,950 INFO sqlalchemy.engine.Engine [generated in 0.00775s] ()\n",
      "2024-02-12 16:34:22,962 INFO sqlalchemy.engine.Engine ROLLBACK\n",
      "(6, 3, 'etty@aol.com')\n",
      "(5, 2, 'golda@aol.com')\n",
      "(4, 1, 'mordy@aol.com')\n",
      "(3, 2, 'melechmommy@gmail.com')\n",
      "(2, 2, 'golda.fast@gmail.com')\n",
      "(1, 1, 'mordechai.fast@gmail.com')\n"
     ]
    }
   ],
   "source": [
    "with engine.connect() as conn:\n",
    "    result = conn.execute(select(address_table)\n",
    "                          .order_by(address_table.c.id.desc()))\n",
    "print(*result, sep='\\n')"
   ]
  },
  {
   "cell_type": "code",
   "execution_count": 41,
   "id": "99085c86-1ba1-4686-b977-e3f1f86fefcd",
   "metadata": {},
   "outputs": [
    {
     "name": "stdout",
     "output_type": "stream",
     "text": [
      "2024-02-12 16:34:23,025 INFO sqlalchemy.engine.Engine BEGIN (implicit)\n",
      "2024-02-12 16:34:23,031 INFO sqlalchemy.engine.Engine SELECT user_account.name, count(address.id) AS count_1 \n",
      "FROM user_account JOIN address ON user_account.id = address.user_id GROUP BY user_account.name \n",
      "HAVING count(address.id) > ?\n",
      "2024-02-12 16:34:23,035 INFO sqlalchemy.engine.Engine [generated in 0.00963s] (1,)\n",
      "2024-02-12 16:34:23,041 INFO sqlalchemy.engine.Engine ROLLBACK\n",
      "('golda', 3), ('mordy', 2)\n"
     ]
    }
   ],
   "source": [
    "with engine.connect() as conn:\n",
    "    result = conn.execute(\n",
    "        select(User.name, func.count(Address.id))\n",
    "        .join(Address)\n",
    "        .group_by(User.name)\n",
    "        .having(func.count(Address.id) > 1)\n",
    "    )\n",
    "print(*result, sep=', ')"
   ]
  },
  {
   "cell_type": "code",
   "execution_count": 42,
   "id": "fbc52ae6-41b6-4617-a042-3bf14424ae62",
   "metadata": {},
   "outputs": [
    {
     "name": "stdout",
     "output_type": "stream",
     "text": [
      "2024-02-12 16:34:23,105 INFO sqlalchemy.engine.Engine BEGIN (implicit)\n",
      "2024-02-12 16:34:23,110 INFO sqlalchemy.engine.Engine SELECT user_account.name, count(address.id) AS num_addresses \n",
      "FROM user_account JOIN address ON user_account.id = address.user_id GROUP BY user_account.name ORDER BY num_addresses DESC\n",
      "2024-02-12 16:34:23,114 INFO sqlalchemy.engine.Engine [generated in 0.00928s] ()\n",
      "2024-02-12 16:34:23,120 INFO sqlalchemy.engine.Engine ROLLBACK\n",
      "('golda', 3)\n",
      "('mordy', 2)\n",
      "('etty', 1)\n"
     ]
    }
   ],
   "source": [
    "from sqlalchemy import desc\n",
    "\n",
    "with engine.connect() as conn:\n",
    "    result = conn.execute(\n",
    "        select(User.name, func.count(Address.id).label(\"num_addresses\"))\n",
    "        .join(Address)\n",
    "        .group_by(\"name\")\n",
    "        .order_by(desc(\"num_addresses\"))\n",
    "    )\n",
    "print(*result, sep='\\n')"
   ]
  },
  {
   "cell_type": "code",
   "execution_count": 43,
   "id": "377f9c71-833a-4ec4-a117-32bf11aab9ef",
   "metadata": {},
   "outputs": [
    {
     "name": "stdout",
     "output_type": "stream",
     "text": [
      "2024-02-12 16:34:23,159 INFO sqlalchemy.engine.Engine BEGIN (implicit)\n",
      "2024-02-12 16:34:23,171 INFO sqlalchemy.engine.Engine SELECT user_account_1.name, user_account_2.name AS name_1 \n",
      "FROM user_account AS user_account_1 JOIN user_account AS user_account_2 ON user_account_1.id < user_account_2.id\n",
      "2024-02-12 16:34:23,190 INFO sqlalchemy.engine.Engine [generated in 0.03084s] ()\n",
      "2024-02-12 16:34:23,198 INFO sqlalchemy.engine.Engine ROLLBACK\n",
      "('mordy', 'golda'), ('mordy', 'etty'), ('golda', 'etty')\n"
     ]
    }
   ],
   "source": [
    "user1 = user_table.alias()\n",
    "user2 = user_table.alias()\n",
    "\n",
    "with engine.connect() as conn:\n",
    "    result = conn.execute(\n",
    "        select(user1.c.name, user2.c.name)\n",
    "        .join_from(user1, user2, user1.c.id < user2.c.id)\n",
    "    )\n",
    "print(*result, sep=', ')"
   ]
  },
  {
   "cell_type": "code",
   "execution_count": 44,
   "id": "1705ebc9-5158-42a7-bfa3-7140f545f75d",
   "metadata": {},
   "outputs": [
    {
     "name": "stdout",
     "output_type": "stream",
     "text": [
      "2024-02-12 16:34:23,303 INFO sqlalchemy.engine.Engine BEGIN (implicit)\n",
      "2024-02-12 16:34:23,326 INFO sqlalchemy.engine.Engine SELECT user_account.id, user_account.name, user_account.fullname \n",
      "FROM user_account JOIN address AS address_1 ON user_account.id = address_1.user_id JOIN address AS address_2 ON user_account.id = address_2.user_id \n",
      "WHERE address_1.email_address = ? AND address_2.email_address = ?\n",
      "2024-02-12 16:34:23,340 INFO sqlalchemy.engine.Engine [generated in 0.01516s] ('golda.fast@gmail.com', 'melechmommy@gmail.com')\n",
      "(User(id=2, name='golda', fullname='Golda Fast'),)\n",
      "2024-02-12 16:34:23,350 INFO sqlalchemy.engine.Engine ROLLBACK\n"
     ]
    }
   ],
   "source": [
    "from sqlalchemy.orm import aliased\n",
    "\n",
    "address1 = aliased(Address)\n",
    "address2 = aliased(Address)\n",
    "\n",
    "with Session(engine) as session:\n",
    "    result = session.execute(\n",
    "        select(User)\n",
    "        .join(address1)\n",
    "        .where(address1.email_address == \"golda.fast@gmail.com\")\n",
    "        .join(address2)\n",
    "        .where(address2.email_address == \"melechmommy@gmail.com\")\n",
    "    )\n",
    "    print(*result, sep=', ')"
   ]
  },
  {
   "cell_type": "code",
   "execution_count": 45,
   "id": "6d574275-cfaf-490e-8de6-fb8e3c8ed271",
   "metadata": {},
   "outputs": [
    {
     "name": "stdout",
     "output_type": "stream",
     "text": [
      "2024-02-12 16:34:23,471 INFO sqlalchemy.engine.Engine BEGIN (implicit)\n",
      "2024-02-12 16:34:23,476 INFO sqlalchemy.engine.Engine SELECT user_account.name, anon_1.count \n",
      "FROM (SELECT count(address.id) AS count, address.user_id AS user_id \n",
      "FROM address GROUP BY address.user_id) AS anon_1 JOIN user_account ON user_account.id = anon_1.user_id\n",
      "2024-02-12 16:34:23,483 INFO sqlalchemy.engine.Engine [generated in 0.01330s] ()\n",
      "2024-02-12 16:34:23,488 INFO sqlalchemy.engine.Engine ROLLBACK\n",
      "('mordy', 2), ('golda', 3), ('etty', 1)\n"
     ]
    }
   ],
   "source": [
    "subq = (\n",
    "    select(func.count(address_table.c.id).label(\"count\"),\n",
    "           address_table.c.user_id)\n",
    "    .group_by(address_table.c.user_id)\n",
    "    .subquery()\n",
    ")\n",
    "\n",
    "with engine.connect() as conn:\n",
    "    result = conn.execute(select(user_table.c.name, subq.c.count)\n",
    "                          .join(user_table))\n",
    "print(*result, sep=', ')"
   ]
  },
  {
   "cell_type": "code",
   "execution_count": 46,
   "id": "af0d5c5d-c0bf-47e4-9518-3258f2f71759",
   "metadata": {},
   "outputs": [
    {
     "name": "stdout",
     "output_type": "stream",
     "text": [
      "2024-02-12 16:34:23,558 INFO sqlalchemy.engine.Engine BEGIN (implicit)\n",
      "2024-02-12 16:34:23,561 INFO sqlalchemy.engine.Engine WITH raw_answer AS \n",
      "(SELECT count(address.id) AS count, address.user_id AS user_id \n",
      "FROM address GROUP BY address.user_id)\n",
      " SELECT user_account.name, raw_answer.count \n",
      "FROM raw_answer JOIN user_account ON user_account.id = raw_answer.user_id\n",
      "2024-02-12 16:34:23,565 INFO sqlalchemy.engine.Engine [generated in 0.00775s] ()\n",
      "2024-02-12 16:34:23,572 INFO sqlalchemy.engine.Engine ROLLBACK\n",
      "('mordy', 2), ('golda', 3), ('etty', 1)\n"
     ]
    }
   ],
   "source": [
    "cte = (\n",
    "    select(func.count(address_table.c.id).label(\"count\"),\n",
    "           address_table.c.user_id)\n",
    "    .group_by(address_table.c.user_id)\n",
    "    .cte(\"raw_answer\")\n",
    ")\n",
    "\n",
    "with engine.connect() as conn:\n",
    "    result = conn.execute(select(user_table.c.name, cte.c.count)\n",
    "                          .join(user_table))\n",
    "print(*result, sep=', ')"
   ]
  },
  {
   "cell_type": "code",
   "execution_count": 47,
   "id": "9d5f9202-11ad-4dd4-8e21-afe98914bc27",
   "metadata": {},
   "outputs": [
    {
     "name": "stdout",
     "output_type": "stream",
     "text": [
      "2024-02-12 16:34:23,627 INFO sqlalchemy.engine.Engine BEGIN (implicit)\n",
      "2024-02-12 16:34:23,641 INFO sqlalchemy.engine.Engine SELECT user_account.name, interesting_mail.email_address \n",
      "FROM user_account JOIN (SELECT address.id AS id, address.email_address AS email_address, address.user_id AS user_id \n",
      "FROM address \n",
      "WHERE address.email_address NOT LIKE ?) AS interesting_mail ON user_account.id = interesting_mail.user_id ORDER BY user_account.id\n",
      "2024-02-12 16:34:23,645 INFO sqlalchemy.engine.Engine [generated in 0.00471s] ('%fast@gmail.com',)\n",
      "mordy mordy@aol.com\n",
      "golda melechmommy@gmail.com\n",
      "golda golda@aol.com\n",
      "etty etty@aol.com\n",
      "2024-02-12 16:34:23,655 INFO sqlalchemy.engine.Engine ROLLBACK\n"
     ]
    }
   ],
   "source": [
    "subq = (select(Address).where(~Address.email_address.like(\"%fast@gmail.com\"))\n",
    "        .subquery(\"interesting_mail\")) # or cte()\n",
    "address_sq = aliased(Address, subq)\n",
    "stmt = (\n",
    "    select(User.name, address_sq.email_address)\n",
    "    .join_from(User, address_sq)\n",
    "    .order_by(User.id)\n",
    ")\n",
    "\n",
    "with Session(engine) as session:\n",
    "    for user, address in session.execute(stmt):\n",
    "        print(user, address)"
   ]
  },
  {
   "cell_type": "code",
   "execution_count": 52,
   "id": "0f8078d6-9838-4f77-83c3-c5a8ba84b82c",
   "metadata": {},
   "outputs": [
    {
     "name": "stdout",
     "output_type": "stream",
     "text": [
      "SELECT count(address.id) AS count_1 \n",
      "FROM address, user_account \n",
      "WHERE user_account.id = address.user_id\n",
      "*** (SELECT count(address.id) AS count_1 \n",
      "FROM address, user_account \n",
      "WHERE user_account.id = address.user_id)\n",
      "*** False\n",
      "*** (SELECT count(address.id) AS count_1 \n",
      "FROM address, user_account \n",
      "WHERE user_account.id = address.user_id) = :param_1\n"
     ]
    }
   ],
   "source": [
    "subq = (\n",
    "    select(func.count(address_table.c.id))\n",
    "    .where(user_table.c.id == address_table.c.user_id)\n",
    "    .subquery()\n",
    ")\n",
    "scalar = (\n",
    "    select(func.count(address_table.c.id))\n",
    "    .where(user_table.c.id == address_table.c.user_id)\n",
    "    .scalar_subquery()\n",
    ")\n",
    "print(subq, scalar, subq == 3, scalar == 3, sep='\\n*** ')"
   ]
  },
  {
   "cell_type": "code",
   "execution_count": 53,
   "id": "2fe30efa-800f-4ebc-b6b6-8c76c7823881",
   "metadata": {},
   "outputs": [
    {
     "name": "stdout",
     "output_type": "stream",
     "text": [
      "SELECT user_account.name, (SELECT count(address.id) AS count_1 \n",
      "FROM address \n",
      "WHERE user_account.id = address.user_id) AS anon_1 \n",
      "FROM user_account\n"
     ]
    }
   ],
   "source": [
    "# correlation\n",
    "print(select(user_table.c.name, scalar))"
   ]
  },
  {
   "cell_type": "code",
   "execution_count": null,
   "id": "e5d3ff33-32a0-48fa-80b5-9ca87dfbe838",
   "metadata": {},
   "outputs": [],
   "source": []
  }
 ],
 "metadata": {
  "kernelspec": {
   "display_name": "Python 3 (ipykernel)",
   "language": "python",
   "name": "python3"
  },
  "language_info": {
   "codemirror_mode": {
    "name": "ipython",
    "version": 3
   },
   "file_extension": ".py",
   "mimetype": "text/x-python",
   "name": "python",
   "nbconvert_exporter": "python",
   "pygments_lexer": "ipython3",
   "version": "3.11.4"
  }
 },
 "nbformat": 4,
 "nbformat_minor": 5
}
